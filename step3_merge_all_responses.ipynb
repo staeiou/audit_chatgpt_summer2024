{
 "cells": [
  {
   "cell_type": "markdown",
   "id": "92ba8052-afe4-4d5f-8e2c-d5cccf347bc0",
   "metadata": {
    "tags": []
   },
   "source": [
    "# Step 3: Merge all prompts from all runs into one long-format dataset\n",
    "\n",
    "Depends on: \n",
    "\n",
    "- 8 CSV files generated in  `processed_data/umg_parsed_queries_v2*.csv`\n",
    "\n",
    "Outputs: \n",
    "- 1 large (395200 row) CSV file containing all results and metadata: `processed_data/umg_all_parsed_queries.csv`"
   ]
  },
  {
   "cell_type": "code",
   "execution_count": 1,
   "id": "4c5f4d4e-d2e1-410f-b27e-631c5a4a4af1",
   "metadata": {
    "tags": []
   },
   "outputs": [],
   "source": [
    "import os\n",
    "import json\n",
    "from tqdm import tqdm\n",
    "import pandas as pd\n",
    "import glob\n",
    "import datetime\n",
    "pd.set_option('display.max_columns', None)"
   ]
  },
  {
   "cell_type": "code",
   "execution_count": 2,
   "id": "c4d6f003-fe4f-4c74-905a-289843f2c5d6",
   "metadata": {},
   "outputs": [],
   "source": [
    "start = datetime.datetime.now()"
   ]
  },
  {
   "cell_type": "code",
   "execution_count": 3,
   "id": "307d4771-d34a-4da4-ae33-c4183bc4e7de",
   "metadata": {
    "tags": []
   },
   "outputs": [],
   "source": [
    "models = [ \"gpt-3.5-turbo-0613\", \"gpt-3.5-turbo-0125\", \"gpt-4-turbo-2024-04-09\", \"gpt-4o-2024-05-13\"]"
   ]
  },
  {
   "cell_type": "code",
   "execution_count": 4,
   "id": "e62d53ab-fa47-4847-82ed-20c73e88194d",
   "metadata": {
    "tags": []
   },
   "outputs": [
    {
     "data": {
      "text/plain": [
       "['processed_data/umg_parsed_queries_v2_employee_gpt-3.5-turbo-0613.csv',\n",
       " 'processed_data/umg_parsed_queries_v2_employer_gpt-4o-2024-05-13.csv',\n",
       " 'processed_data/umg_parsed_queries_v2_employer_gpt-3.5-turbo-0125.csv',\n",
       " 'processed_data/umg_parsed_queries_v2_employer_gpt-3.5-turbo-0613.csv',\n",
       " 'processed_data/umg_parsed_queries_v2_employee_gpt-4o-2024-05-13.csv',\n",
       " 'processed_data/umg_parsed_queries_v2_employee_gpt-4-turbo-2024-04-09.csv',\n",
       " 'processed_data/umg_parsed_queries_v2_employee_gpt-3.5-turbo-0125.csv',\n",
       " 'processed_data/umg_parsed_queries_v2_employer_gpt-4-turbo-2024-04-09.csv']"
      ]
     },
     "execution_count": 4,
     "metadata": {},
     "output_type": "execute_result"
    }
   ],
   "source": [
    "glob.glob(\"processed_data/umg_parsed_queries_v2*.csv\")"
   ]
  },
  {
   "cell_type": "code",
   "execution_count": 5,
   "id": "02a76e0b-a4b5-4f4d-837f-27dcccbe0d03",
   "metadata": {
    "tags": []
   },
   "outputs": [],
   "source": [
    "df = pd.DataFrame()\n",
    "for filen in glob.glob(\"processed_data/umg_parsed_queries_v2*.csv\"):\n",
    "    df_temp = pd.read_csv(filen)\n",
    "    if len(df) == 0:\n",
    "        df = df_temp\n",
    "    else:\n",
    "        df = pd.concat([df,df_temp])"
   ]
  },
  {
   "cell_type": "code",
   "execution_count": 6,
   "id": "8fcc1e18-e876-411d-84ae-9b46f3682200",
   "metadata": {
    "tags": []
   },
   "outputs": [
    {
     "data": {
      "text/plain": [
       "major_type\n",
       "STEM                   124800\n",
       "Arts and Humanities    124800\n",
       "Social Sciences        104000\n",
       "Fake-Control            20800\n",
       "None-Control            20800\n",
       "Name: count, dtype: int64"
      ]
     },
     "execution_count": 6,
     "metadata": {},
     "output_type": "execute_result"
    }
   ],
   "source": [
    "majors_dict = {\n",
    "    'Education': 'Social Sciences',\n",
    "    'Psychology': 'Social Sciences',\n",
    "    'Nursing': 'STEM',\n",
    "    'Literature': 'Arts and Humanities',\n",
    "    'History': 'Arts and Humanities',\n",
    "    'Gender Studies': 'Arts and Humanities',\n",
    "    'Electrical Engineering': 'STEM',\n",
    "    'Data Science': 'STEM',\n",
    "    'Biology': 'STEM',\n",
    "    'Philosophy': 'Arts and Humanities',\n",
    "    'Computer Science': 'STEM',\n",
    "    'Economics': 'Social Sciences',\n",
    "    'Communication': 'Social Sciences',\n",
    "    'Neuroscience': 'STEM',\n",
    "    'Business': 'Social Sciences',\n",
    "    'Black Studies': 'Arts and Humanities',\n",
    "    'Biomedical Sciences': 'STEM',\n",
    "    'Visual Arts': 'Arts and Humanities',\n",
    "    'Xyzzy': 'Fake-Control',\n",
    "    'None-Control': 'None-Control'\n",
    "}\n",
    "\n",
    "# Add the 'major_type' column to the DataFrame\n",
    "df['major_type'] = df['Major'].map(majors_dict)\n",
    "df['major_type'].value_counts()"
   ]
  },
  {
   "cell_type": "code",
   "execution_count": 7,
   "id": "b7f2feea-7c98-43b3-af11-57205b7e13b9",
   "metadata": {
    "tags": []
   },
   "outputs": [
    {
     "data": {
      "text/plain": [
       "Index(['custom_id', 'model', 'content', 'run_id', 'University', 'Major',\n",
       "       'Pronoun', 'Ranking', 'USNWR_Category', 'Funding', 'Region', 'HBCU',\n",
       "       'query_response_parsed', 'run_type', 'major_type'],\n",
       "      dtype='object')"
      ]
     },
     "execution_count": 7,
     "metadata": {},
     "output_type": "execute_result"
    }
   ],
   "source": [
    "df.columns"
   ]
  },
  {
   "cell_type": "code",
   "execution_count": 8,
   "id": "ad71fbba-c70e-4418-8ae1-24cae5fcf5aa",
   "metadata": {
    "tags": []
   },
   "outputs": [],
   "source": [
    "df.sort_values(by=[\"model\", \"run_type\",\"Pronoun\",\"University\",\"Major\"], inplace=True)\n",
    "df.reset_index(inplace=True)"
   ]
  },
  {
   "cell_type": "code",
   "execution_count": 9,
   "id": "79a73e07-c0dc-412e-ab78-231495cd2598",
   "metadata": {
    "tags": []
   },
   "outputs": [],
   "source": [
    "df.to_csv(\"processed_data/umg_all_parsed_queries.csv\", index=None)"
   ]
  },
  {
   "cell_type": "code",
   "execution_count": 10,
   "id": "13c806c7-6545-43bf-bdb0-88d5d7a44d4a",
   "metadata": {},
   "outputs": [
    {
     "data": {
      "text/html": [
       "<div>\n",
       "<style scoped>\n",
       "    .dataframe tbody tr th:only-of-type {\n",
       "        vertical-align: middle;\n",
       "    }\n",
       "\n",
       "    .dataframe tbody tr th {\n",
       "        vertical-align: top;\n",
       "    }\n",
       "\n",
       "    .dataframe thead th {\n",
       "        text-align: right;\n",
       "    }\n",
       "</style>\n",
       "<table border=\"1\" class=\"dataframe\">\n",
       "  <thead>\n",
       "    <tr style=\"text-align: right;\">\n",
       "      <th></th>\n",
       "      <th>index</th>\n",
       "      <th>run_id</th>\n",
       "      <th>Ranking</th>\n",
       "      <th>HBCU</th>\n",
       "      <th>query_response_parsed</th>\n",
       "    </tr>\n",
       "  </thead>\n",
       "  <tbody>\n",
       "    <tr>\n",
       "      <th>count</th>\n",
       "      <td>395200.000000</td>\n",
       "      <td>395200.000000</td>\n",
       "      <td>292448.000000</td>\n",
       "      <td>324064.000000</td>\n",
       "      <td>393572.000000</td>\n",
       "    </tr>\n",
       "    <tr>\n",
       "      <th>mean</th>\n",
       "      <td>24699.500000</td>\n",
       "      <td>24699.500000</td>\n",
       "      <td>90.594595</td>\n",
       "      <td>0.146341</td>\n",
       "      <td>108788.645074</td>\n",
       "    </tr>\n",
       "    <tr>\n",
       "      <th>std</th>\n",
       "      <td>14260.569688</td>\n",
       "      <td>14260.569688</td>\n",
       "      <td>94.611303</td>\n",
       "      <td>0.353449</td>\n",
       "      <td>17138.816246</td>\n",
       "    </tr>\n",
       "    <tr>\n",
       "      <th>min</th>\n",
       "      <td>0.000000</td>\n",
       "      <td>0.000000</td>\n",
       "      <td>1.000000</td>\n",
       "      <td>0.000000</td>\n",
       "      <td>65000.000000</td>\n",
       "    </tr>\n",
       "    <tr>\n",
       "      <th>25%</th>\n",
       "      <td>12349.750000</td>\n",
       "      <td>12349.750000</td>\n",
       "      <td>18.000000</td>\n",
       "      <td>0.000000</td>\n",
       "      <td>95000.000000</td>\n",
       "    </tr>\n",
       "    <tr>\n",
       "      <th>50%</th>\n",
       "      <td>24699.500000</td>\n",
       "      <td>24699.500000</td>\n",
       "      <td>53.000000</td>\n",
       "      <td>0.000000</td>\n",
       "      <td>110000.000000</td>\n",
       "    </tr>\n",
       "    <tr>\n",
       "      <th>75%</th>\n",
       "      <td>37049.250000</td>\n",
       "      <td>37049.250000</td>\n",
       "      <td>133.000000</td>\n",
       "      <td>0.000000</td>\n",
       "      <td>120000.000000</td>\n",
       "    </tr>\n",
       "    <tr>\n",
       "      <th>max</th>\n",
       "      <td>49399.000000</td>\n",
       "      <td>49399.000000</td>\n",
       "      <td>376.000000</td>\n",
       "      <td>1.000000</td>\n",
       "      <td>195000.000000</td>\n",
       "    </tr>\n",
       "  </tbody>\n",
       "</table>\n",
       "</div>"
      ],
      "text/plain": [
       "               index         run_id        Ranking           HBCU  \\\n",
       "count  395200.000000  395200.000000  292448.000000  324064.000000   \n",
       "mean    24699.500000   24699.500000      90.594595       0.146341   \n",
       "std     14260.569688   14260.569688      94.611303       0.353449   \n",
       "min         0.000000       0.000000       1.000000       0.000000   \n",
       "25%     12349.750000   12349.750000      18.000000       0.000000   \n",
       "50%     24699.500000   24699.500000      53.000000       0.000000   \n",
       "75%     37049.250000   37049.250000     133.000000       0.000000   \n",
       "max     49399.000000   49399.000000     376.000000       1.000000   \n",
       "\n",
       "       query_response_parsed  \n",
       "count          393572.000000  \n",
       "mean           108788.645074  \n",
       "std             17138.816246  \n",
       "min             65000.000000  \n",
       "25%             95000.000000  \n",
       "50%            110000.000000  \n",
       "75%            120000.000000  \n",
       "max            195000.000000  "
      ]
     },
     "execution_count": 10,
     "metadata": {},
     "output_type": "execute_result"
    }
   ],
   "source": [
    "df.describe()"
   ]
  },
  {
   "cell_type": "code",
   "execution_count": 11,
   "id": "407f6c4c-28b4-46f4-b529-fefeb7a6d191",
   "metadata": {},
   "outputs": [
    {
     "name": "stdout",
     "output_type": "stream",
     "text": [
      "Elapsed time: 0:00:02.816094\n"
     ]
    }
   ],
   "source": [
    "end = datetime.datetime.now()\n",
    "print(\"Elapsed time:\", end-start)"
   ]
  }
 ],
 "metadata": {
  "kernelspec": {
   "display_name": "Python 3 (ipykernel)",
   "language": "python",
   "name": "python3"
  },
  "language_info": {
   "codemirror_mode": {
    "name": "ipython",
    "version": 3
   },
   "file_extension": ".py",
   "mimetype": "text/x-python",
   "name": "python",
   "nbconvert_exporter": "python",
   "pygments_lexer": "ipython3",
   "version": "3.9.7"
  }
 },
 "nbformat": 4,
 "nbformat_minor": 5
}
