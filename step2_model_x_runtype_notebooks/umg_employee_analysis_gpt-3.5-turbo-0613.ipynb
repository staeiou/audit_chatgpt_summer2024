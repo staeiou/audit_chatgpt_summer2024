{
 "cells": [
  {
   "cell_type": "markdown",
   "id": "cde94515",
   "metadata": {},
   "source": [
    "# Employee Salary Advice from GPT 3.5 Turbo (trained Jun 2023)"
   ]
  },
  {
   "cell_type": "code",
   "execution_count": null,
   "id": "7a0d5f54-9dd3-4d9a-bfbb-6855a1dc01ae",
   "metadata": {
    "tags": []
   },
   "outputs": [],
   "source": [
    "run_type='employee'\n",
    "gpt_name = 'Employee Salary Advice from GPT 3.5 Turbo (trained Jun 2023)'\n",
    "gpt_fn = 'gpt-3.5-turbo-0613'"
   ]
  },
  {
   "cell_type": "code",
   "execution_count": null,
   "id": "4b790352",
   "metadata": {
    "tags": []
   },
   "outputs": [],
   "source": [
    "import sys\n",
    "sys.path.append('../src/')\n",
    "from dollarparser import parse_dollar_amount\n",
    "import os\n",
    "import json\n",
    "from tqdm import tqdm\n",
    "import pandas as pd\n",
    "import seaborn as sns\n",
    "import glob\n",
    "import matplotlib.pyplot as plt\n",
    "import numpy as np\n",
    "import datetime\n",
    "\n",
    "import warnings\n",
    "warnings.filterwarnings(\"ignore\")\n",
    "\n",
    "sns.set_theme(context='notebook', style='whitegrid')"
   ]
  },
  {
   "cell_type": "code",
   "execution_count": null,
   "id": "a3024a80-590a-4c82-9a42-91e429eb86d7",
   "metadata": {
    "tags": []
   },
   "outputs": [],
   "source": [
    "start_run = datetime.datetime.now()"
   ]
  },
  {
   "cell_type": "markdown",
   "id": "7ae49e73",
   "metadata": {},
   "source": [
    "# Data Cleaning"
   ]
  },
  {
   "cell_type": "code",
   "execution_count": null,
   "id": "623f69b9-ee1d-41c0-a96c-7f1f4ddc0758",
   "metadata": {
    "tags": []
   },
   "outputs": [],
   "source": [
    "fn = glob.glob(f\"../output_data/umg_{run_type}_v2_{gpt_fn}*.jsonl\")\n",
    "print(fn)\n",
    "assert len(fn) == 1"
   ]
  },
  {
   "cell_type": "code",
   "execution_count": null,
   "id": "7cdf5bb6",
   "metadata": {},
   "outputs": [],
   "source": [
    "df = pd.read_json(fn[0], lines=True)\n",
    "\n",
    "# Normalize nested data to access 'model' inside 'response.body' and 'content' inside 'response.body.choices'\n",
    "df = pd.json_normalize(\n",
    "    df.to_dict(orient='records'),\n",
    "    record_path=['response', 'body', 'choices'],\n",
    "    meta=[\n",
    "        ['custom_id'],\n",
    "        ['response', 'body', 'model']\n",
    "    ],\n",
    "    record_prefix='choices.'\n",
    ")\n",
    "\n",
    "# Extract only the columns of interest and rename for clarity\n",
    "df_final = df[['custom_id', 'response.body.model', 'choices.message.content']]\n",
    "df_final.columns = ['custom_id', 'model', 'content']\n",
    "df_final"
   ]
  },
  {
   "cell_type": "code",
   "execution_count": null,
   "id": "63dabf71-886e-4d51-bd94-61f3b5388d8b",
   "metadata": {
    "tags": []
   },
   "outputs": [],
   "source": [
    "len(df_final['custom_id'].unique())"
   ]
  },
  {
   "cell_type": "code",
   "execution_count": null,
   "id": "bb10db37-6ae5-41d4-b31c-641461ee2fee",
   "metadata": {
    "tags": []
   },
   "outputs": [],
   "source": [
    "df_seed = pd.read_csv(\"../input_data/university_major_seed.csv\")\n",
    "df_seed"
   ]
  },
  {
   "cell_type": "code",
   "execution_count": null,
   "id": "51b8aaea-2e82-4ecc-b018-0b2f985b348b",
   "metadata": {
    "tags": []
   },
   "outputs": [],
   "source": [
    "len(df_seed['run_id'].unique())"
   ]
  },
  {
   "cell_type": "code",
   "execution_count": null,
   "id": "a4c12620-a6b0-45f8-9b08-342c978ef2ac",
   "metadata": {
    "tags": []
   },
   "outputs": [],
   "source": [
    "df_seed['custom_id'] = 'task-' + df_seed['run_id'].astype(str)\n",
    "df_seed"
   ]
  },
  {
   "cell_type": "code",
   "execution_count": null,
   "id": "565acf14-2d03-43f2-b1e3-3b7f5a5ac173",
   "metadata": {
    "tags": []
   },
   "outputs": [],
   "source": [
    "len(df_seed['custom_id'].unique())"
   ]
  },
  {
   "cell_type": "code",
   "execution_count": null,
   "id": "12797b05-04ff-417e-b071-33b2b6f07ffc",
   "metadata": {
    "tags": []
   },
   "outputs": [],
   "source": [
    "df_merged = pd.merge(df_final, df_seed, on='custom_id', how='inner')\n",
    "\n",
    "df_merged"
   ]
  },
  {
   "cell_type": "code",
   "execution_count": null,
   "id": "dfcef258-b1da-409d-bb77-5c7dfd51cbf9",
   "metadata": {},
   "outputs": [],
   "source": [
    "df_metadata = pd.read_csv(\"../input_data/university_rankings_expanded.csv\")\n",
    "df_metadata"
   ]
  },
  {
   "cell_type": "code",
   "execution_count": null,
   "id": "a968eec1-dfe9-473f-87ad-d42046291c72",
   "metadata": {
    "tags": []
   },
   "outputs": [],
   "source": [
    "df_merged = df_merged.merge(df_metadata, on=['University', 'Ranking'], how='left')\n",
    "df_merged"
   ]
  },
  {
   "cell_type": "markdown",
   "id": "48d485ce-f08f-4404-8185-a2141171bbbf",
   "metadata": {},
   "source": [
    "## Dollar parsing"
   ]
  },
  {
   "cell_type": "code",
   "execution_count": null,
   "id": "ededdc97-47ce-487a-88d9-606169b5e7e8",
   "metadata": {
    "tags": []
   },
   "outputs": [],
   "source": [
    "parse_dollar_amount(\"$90.000\")"
   ]
  },
  {
   "cell_type": "code",
   "execution_count": null,
   "id": "2cee0556-9447-4cdf-b999-281353ee2a3d",
   "metadata": {
    "tags": []
   },
   "outputs": [],
   "source": [
    "parse_dollar_amount(\"I think $35k to $25 million is reasonable\")"
   ]
  },
  {
   "cell_type": "code",
   "execution_count": null,
   "id": "1fec4ba6-3bff-4cf9-bb8d-7bd8f5de6d41",
   "metadata": {
    "tags": []
   },
   "outputs": [],
   "source": [
    "(35000+25000000)/2"
   ]
  },
  {
   "cell_type": "code",
   "execution_count": null,
   "id": "f7bbdee2-a8e8-4c91-abe8-e9b106dfedb8",
   "metadata": {
    "tags": []
   },
   "outputs": [],
   "source": [
    "df_merged['query_response_parsed'] = df_merged['content'].apply(parse_dollar_amount)\n",
    "df_merged[['content','query_response_parsed']].sort_values('query_response_parsed')"
   ]
  },
  {
   "cell_type": "code",
   "execution_count": null,
   "id": "9f528a53-b8c4-4120-bc4a-7cd9b1eddd55",
   "metadata": {
    "tags": []
   },
   "outputs": [],
   "source": [
    "df_merged[['content','query_response_parsed']].sort_values('query_response_parsed', ascending=False)"
   ]
  },
  {
   "cell_type": "code",
   "execution_count": null,
   "id": "7eba4b6e-cc57-4d89-b276-9bbe038e5f05",
   "metadata": {
    "tags": []
   },
   "outputs": [],
   "source": [
    "refusals = df_merged[df_merged['query_response_parsed'].isna()]['content']\n",
    "refusals"
   ]
  },
  {
   "cell_type": "code",
   "execution_count": null,
   "id": "00bfe6b2-3577-4c64-9d4f-0fefc08a7f68",
   "metadata": {
    "tags": []
   },
   "outputs": [],
   "source": [
    "df_merged.columns"
   ]
  },
  {
   "cell_type": "markdown",
   "id": "a7927dae-38c7-4984-a245-b8bcfaddecb4",
   "metadata": {
    "tags": []
   },
   "source": [
    "## Response length"
   ]
  },
  {
   "cell_type": "code",
   "execution_count": null,
   "id": "01053d1e-fc20-434b-b739-2e4d16d7d596",
   "metadata": {
    "tags": []
   },
   "outputs": [],
   "source": [
    "df_merged['content_len'] = df_merged['content'].apply(len)\n",
    "df_merged['content_len_over10'] = df_merged['content'].apply(lambda x: len(x)>10)"
   ]
  },
  {
   "cell_type": "code",
   "execution_count": null,
   "id": "42cfc7ec-7245-48ea-ac43-b060cd96f6fe",
   "metadata": {
    "tags": []
   },
   "outputs": [],
   "source": [
    "df_merged['content_len_over10'].value_counts()"
   ]
  },
  {
   "cell_type": "code",
   "execution_count": null,
   "id": "00542e66-23b8-48cf-abb2-c95839b8ffe6",
   "metadata": {
    "scrolled": true,
    "tags": []
   },
   "outputs": [],
   "source": [
    "df_merged.query(\"content_len_over10 == 1\")['content'].values"
   ]
  },
  {
   "cell_type": "code",
   "execution_count": null,
   "id": "19afa239-3e31-417d-8fa5-14f57d6ce77b",
   "metadata": {},
   "outputs": [],
   "source": []
  },
  {
   "cell_type": "markdown",
   "id": "dabd48dc-3e4f-40ac-b078-72f4c2aa1858",
   "metadata": {},
   "source": [
    "# Export to file"
   ]
  },
  {
   "cell_type": "code",
   "execution_count": null,
   "id": "34f445bd-14b0-4c77-a140-3620c8235af7",
   "metadata": {
    "tags": []
   },
   "outputs": [],
   "source": [
    "df_merged['run_type'] = run_type\n",
    "df_merged = df_merged.drop(['query_response_raw','query_response','content_len', 'content_len_over10'],axis=1)\n",
    "df_merged.to_csv(f\"../processed_data/umg_parsed_queries_v2_{run_type}_{gpt_fn}.csv\", index=False)"
   ]
  },
  {
   "cell_type": "markdown",
   "id": "cde207ed-140b-496e-a9c3-99273eb61b5e",
   "metadata": {},
   "source": [
    "# Exploratory Analysis"
   ]
  },
  {
   "cell_type": "markdown",
   "id": "2553d2b3-d40a-427b-b235-c4eb7acf30b1",
   "metadata": {},
   "source": [
    "## Proportion of identical responses for identical prompts"
   ]
  },
  {
   "cell_type": "code",
   "execution_count": null,
   "id": "2b65578b-7803-4759-bfda-4971f02327a6",
   "metadata": {
    "tags": []
   },
   "outputs": [],
   "source": [
    "def calculate_identical_proportion(group):\n",
    "    identical = (group['content'] == group['content'].shift(1))\n",
    "    proportion = identical.mean()  # `mean` of boolean series is the proportion of True values\n",
    "    return proportion"
   ]
  },
  {
   "cell_type": "code",
   "execution_count": null,
   "id": "597f0eba-91ac-4afe-a12d-01094e7a471a",
   "metadata": {
    "tags": []
   },
   "outputs": [],
   "source": [
    "result = df_merged.groupby(['University', 'Major']).apply(calculate_identical_proportion).reset_index(name='identical_proportion')\n",
    "result['identical_proportion'].plot(kind='hist', title=\"Histogram: Proportion of response identical to previous response\", figsize=(8,4))"
   ]
  },
  {
   "cell_type": "code",
   "execution_count": null,
   "id": "c92d07d9-60ae-4810-b626-1d6586cac425",
   "metadata": {
    "tags": []
   },
   "outputs": [],
   "source": [
    "# List of unique pronouns\n",
    "var = 'Pronoun'\n",
    "uniques = df_merged[var].unique()\n",
    "\n",
    "# Create a figure with specified size\n",
    "plt.figure(figsize=(12, 5))\n",
    "\n",
    "for item in uniques:\n",
    "    subset_df = df_merged[df_merged[var] == item]\n",
    "    sns.kdeplot(data=subset_df, x='query_response_parsed', label=item)\n",
    "\n",
    "plt.legend(title=var)\n",
    "plt.title(f\"KDE of query_response_parsed by {var}\")\n",
    "plt.xlabel('query_response_parsed')\n",
    "plt.ylabel('Density')\n",
    "plt.show()"
   ]
  },
  {
   "cell_type": "code",
   "execution_count": null,
   "id": "973b170c-eae2-4ff0-8278-42e54fcf9737",
   "metadata": {
    "tags": []
   },
   "outputs": [],
   "source": [
    "# List of unique pronouns\n",
    "var = 'Major'\n",
    "uniques = df_merged[var].unique()\n",
    "\n",
    "# Create a figure with specified size\n",
    "plt.figure(figsize=(12, 5))\n",
    "\n",
    "for item in uniques:\n",
    "    subset_df = df_merged[df_merged[var] == item]\n",
    "    sns.kdeplot(data=subset_df, x='query_response_parsed', label=item)\n",
    "\n",
    "plt.legend(title=var,ncols=4, bbox_to_anchor=(.5,-.55),loc='lower center'), \n",
    "plt.title(f\"KDE of query_response_parsed by {var}\")\n",
    "plt.xlabel('query_response_parsed')\n",
    "plt.ylabel('Density')\n",
    "plt.show()"
   ]
  },
  {
   "cell_type": "code",
   "execution_count": null,
   "id": "c89102e6-c711-4bc9-a9a6-edc8d829c406",
   "metadata": {
    "tags": []
   },
   "outputs": [],
   "source": [
    "# List of unique pronouns\n",
    "var = 'University'\n",
    "uniques = df_merged[var].unique()\n",
    "\n",
    "# Create a figure with specified size\n",
    "plt.figure(figsize=(16, 6))\n",
    "\n",
    "for item in uniques:\n",
    "    subset_df = df_merged[df_merged[var] == item]\n",
    "    sns.kdeplot(data=subset_df, x='query_response_parsed', label=item)\n",
    "\n",
    "plt.legend(title=var,ncols=4, bbox_to_anchor=(.5,-1),loc='lower center'), \n",
    "plt.title(f\"KDE of query_response_parsed by {var}\")\n",
    "plt.xlabel('query_response_parsed')\n",
    "plt.ylabel('Density')\n",
    "plt.show()"
   ]
  },
  {
   "cell_type": "markdown",
   "id": "7e78b54d-ea2f-4971-8092-90b37e166a6d",
   "metadata": {},
   "source": [
    "# Generate per-model+prompt_type median heatmaps for university x major"
   ]
  },
  {
   "cell_type": "code",
   "execution_count": null,
   "id": "1215f87c-d062-4226-bd9a-92f01e752ac2",
   "metadata": {
    "tags": []
   },
   "outputs": [],
   "source": [
    "# Calculate statistics for each combination of University and Major\n",
    "stats = df_merged.groupby(['University', 'Major'])['query_response_parsed'].agg(['std', 'median', 'mean', lambda x: x.max() - x.min(), 'var']).reset_index()\n",
    "stats.columns = ['University', 'Major', 'std', 'median', 'mean', 'range', 'var']\n",
    "\n",
    "# Select the required combinations for each statistic\n",
    "selected_combinations = {\n",
    "    'max stddev': stats.nlargest(1, 'std'),\n",
    "    'min stddev': stats.nsmallest(1, 'std'),\n",
    "    'mean stddev': stats.loc[(stats['std'] - stats['std'].mean()).abs().argsort()[:1]],\n",
    "    'median stddev': stats.loc[(stats['std'] - stats['std'].median()).abs().argsort()[:1]],\n",
    "    \n",
    "    'max var': stats.nlargest(1, 'var'),\n",
    "    'min var': stats.nsmallest(1, 'var'),\n",
    "    'mean var': stats.loc[(stats['var'] - stats['var'].mean()).abs().argsort()[:1]],\n",
    "    'median var': stats.loc[(stats['var'] - stats['var'].median()).abs().argsort()[:1]],\n",
    "    \n",
    "    'max median': stats.nlargest(1, 'median'),\n",
    "    'min median': stats.nsmallest(1, 'median'),\n",
    "    'mean median': stats.loc[(stats['median'] - stats['median'].mean()).abs().argsort()[:1]],\n",
    "    'median median': stats.loc[(stats['median'] - stats['median'].median()).abs().argsort()[:1]],\n",
    "\n",
    "    'max mean': stats.nlargest(1, 'mean'),\n",
    "    'min mean': stats.nsmallest(1, 'mean'),\n",
    "    'mean mean': stats.loc[(stats['mean'] - stats['mean'].mean()).abs().argsort()[:1]],\n",
    "    'median mean': stats.loc[(stats['mean'] - stats['mean'].median()).abs().argsort()[:1]],\n",
    "\n",
    "    'max range': stats.nlargest(1, 'range'),\n",
    "    'min range': stats.nsmallest(1, 'range'),\n",
    "    'mean range': stats.loc[(stats['range'] - stats['range'].mean()).abs().argsort()[:1]],\n",
    "    'median range': stats.loc[(stats['range'] - stats['range'].median()).abs().argsort()[:1]]\n",
    "}\n",
    "\n",
    "# Combine all selected combinations into one DataFrame with labels\n",
    "selected_df = pd.concat([\n",
    "    df.assign(label=label) for label, df in selected_combinations.items()\n",
    "]).drop_duplicates()\n",
    "\n",
    "# Define the bin edges based on the overall data\n",
    "min_value = df_merged['query_response_parsed'].min()\n",
    "max_value = df_merged['query_response_parsed'].max()\n",
    "bins = np.linspace(min_value, max_value, 31)\n",
    "\n",
    "# Create a figure with specified size and shared x and y axes\n",
    "fig, axes = plt.subplots(5, 4, figsize=(16, 8), sharex=True, sharey=True)\n",
    "axes = axes.flatten()\n",
    "\n",
    "for ax, (index, row) in zip(axes, selected_df.iterrows()):\n",
    "    university, major = row['University'], row['Major']\n",
    "    subset_df = df_merged[(df_merged['University'] == university) & (df_merged['Major'] == major)]\n",
    "    ax.hist(subset_df['query_response_parsed'], bins=bins, alpha=0.5, density=False)\n",
    "    stat_label = row['label']\n",
    "    ax.set_title(f'{university}\\n {major}\\n({stat_label})')\n",
    "\n",
    "plt.tight_layout()\n",
    "plt.show()"
   ]
  },
  {
   "cell_type": "code",
   "execution_count": null,
   "id": "88ef702a",
   "metadata": {},
   "outputs": [],
   "source": [
    "df_merged.groupby('University')['query_response_parsed'].mean().sort_values(ascending=False)"
   ]
  },
  {
   "cell_type": "code",
   "execution_count": null,
   "id": "e5673562",
   "metadata": {},
   "outputs": [],
   "source": [
    "df_merged.groupby('Major')['query_response_parsed'].mean().sort_values(ascending=False)"
   ]
  },
  {
   "cell_type": "code",
   "execution_count": null,
   "id": "35b3b034-2a2e-4000-bc8b-f1c77fae50ff",
   "metadata": {
    "tags": []
   },
   "outputs": [],
   "source": [
    "df_merged.groupby('Funding')['query_response_parsed'].mean().sort_values(ascending=False)"
   ]
  },
  {
   "cell_type": "code",
   "execution_count": null,
   "id": "f734b159-1930-48c8-83a2-de2df9c28e91",
   "metadata": {
    "tags": []
   },
   "outputs": [],
   "source": [
    "df_merged.groupby('Region')['query_response_parsed'].mean().sort_values(ascending=False)"
   ]
  },
  {
   "cell_type": "code",
   "execution_count": null,
   "id": "8862ad5e-c63f-4050-9bda-0cc0d1bb844a",
   "metadata": {
    "tags": []
   },
   "outputs": [],
   "source": [
    "df_merged.groupby('USNWR_Category')['query_response_parsed'].mean().sort_values(ascending=False)"
   ]
  },
  {
   "cell_type": "code",
   "execution_count": null,
   "id": "84c9bf9c-0104-4664-8fe2-f80e9a0f86c5",
   "metadata": {
    "tags": []
   },
   "outputs": [],
   "source": [
    "df_merged.groupby('Pronoun')['query_response_parsed'].mean().sort_values(ascending=False)"
   ]
  },
  {
   "cell_type": "code",
   "execution_count": null,
   "id": "9a9b988d-c47e-4eb3-ae79-7e953195912e",
   "metadata": {
    "tags": []
   },
   "outputs": [],
   "source": [
    "df_merged['query_response_parsed'].mean()"
   ]
  },
  {
   "cell_type": "code",
   "execution_count": null,
   "id": "351f7404-d189-43e0-9f56-c9f2f27563ec",
   "metadata": {
    "tags": []
   },
   "outputs": [],
   "source": [
    "def ranking_label(ranking):\n",
    "    if np.isnan(ranking):\n",
    "        return \"NR\"\n",
    "    else:\n",
    "        try:\n",
    "            return str(int(ranking))\n",
    "        except:\n",
    "            return 'E!'\n",
    "        \n",
    "        \n",
    "def usnwr_cat_label(label):\n",
    "    if label == 'Nat/HBCU':\n",
    "        return label\n",
    "    if label == 'LA/HBCU':\n",
    "        return label\n",
    "    if label == 'National':\n",
    "        return 'National'\n",
    "    if label == 'Liberal Arts':\n",
    "        return 'Lib Arts'\n",
    "    if label == 'Tribal College':\n",
    "        return 'Tribal'\n",
    "    return label"
   ]
  },
  {
   "cell_type": "code",
   "execution_count": null,
   "id": "299f9d54-3c86-4c2d-8496-cfa1d2a2da43",
   "metadata": {},
   "outputs": [],
   "source": []
  },
  {
   "cell_type": "code",
   "execution_count": null,
   "id": "bba3c812-34ba-4a55-9cfb-47aff086646f",
   "metadata": {
    "tags": []
   },
   "outputs": [],
   "source": []
  },
  {
   "cell_type": "code",
   "execution_count": null,
   "id": "f4b1e551-3312-4c1d-b3d5-c2fa40db0f1c",
   "metadata": {
    "tags": []
   },
   "outputs": [],
   "source": [
    "df_merged['HBCU_display'] = df_merged['HBCU'].apply(lambda x: '+ HBCU' if x == 1 else '')\n",
    "df_merged['HBCU_display'].value_counts()"
   ]
  },
  {
   "cell_type": "code",
   "execution_count": null,
   "id": "fac0ab98",
   "metadata": {
    "tags": []
   },
   "outputs": [],
   "source": [
    "aqr = df_merged.groupby(['University', 'Major'])['query_response_parsed'].median().round(0).reset_index()\n",
    "avg_university = aqr.groupby('University')['query_response_parsed'].mean().sort_values(ascending=False)\n",
    "avg_major = aqr.groupby('Major')['query_response_parsed'].mean().sort_values(ascending=False)\n",
    "aqr['University'] = pd.Categorical(aqr['University'], categories=avg_university.index, ordered=True)\n",
    "aqr['Major'] = pd.Categorical(aqr['Major'], categories=avg_major.index, ordered=True)\n",
    "sorted_aqr = aqr.sort_values(['University', 'Major'])\n",
    "\n",
    "pivot_table = sorted_aqr.pivot(index='University', columns='Major', values='query_response_parsed')\n",
    "rankings = df_merged[['University', 'Ranking', 'USNWR_Category', 'HBCU_display']].drop_duplicates().set_index('University').loc[pivot_table.index]\n",
    "pivot_table_with_rankings = pivot_table.copy()\n",
    "pivot_table['Average - All Majors'] = pivot_table.T.mean()\n",
    "avg_row = pivot_table.mean(numeric_only=True)\n",
    "pivot_table.loc['Average - All Schools'] = avg_row\n",
    "pivot_table_with_rankings['Ranking'] = rankings['Ranking']\n",
    "pivot_table_with_rankings['USNWR_Category'] = rankings['USNWR_Category']\n",
    "pivot_table_with_rankings['HBCU_display'] = rankings['HBCU_display']\n",
    "\n",
    "\n",
    "fig, ax = plt.subplots(figsize=(14,12))\n",
    "heatmap = sns.heatmap(pivot_table, annot=True, fmt='', annot_kws={\"size\": 10}, cmap='plasma', cbar=False, ax=ax,\n",
    "                     vmin=80000,vmax=150000)\n",
    "\n",
    "for text in heatmap.texts:\n",
    "    value = int(float(text.get_text()))\n",
    "    formatted_text = f'${value // 1000}k'\n",
    "    text.set_text(formatted_text)\n",
    "\n",
    "for y, (index, row) in enumerate(pivot_table_with_rankings.iterrows()):\n",
    "    ax.text(len(pivot_table.columns) + 0.5, y + 0.5, ranking_label(row['Ranking']),\n",
    "           horizontalalignment='center',\n",
    "           verticalalignment='center',\n",
    "           fontsize=11,\n",
    "           color='black',\n",
    "           weight='normal')\n",
    "    ax.text(len(pivot_table.columns) + 2.25, y + 0.5, usnwr_cat_label(row['USNWR_Category']),\n",
    "           horizontalalignment='center',\n",
    "           verticalalignment='center',\n",
    "           fontsize=11,\n",
    "           color='black',\n",
    "           weight='normal')\n",
    "    ax.text(len(pivot_table.columns) + 3.5, y + 0.5, row['HBCU_display'],\n",
    "           horizontalalignment='center',\n",
    "           verticalalignment='center',\n",
    "           fontsize=11,\n",
    "           color='black',\n",
    "           weight='normal')\n",
    "    \n",
    "ax.set_title(gpt_name + ': Median Salary Offer by University and Major')\n",
    "ax.set_xlabel('Major')\n",
    "ax.set_ylabel('University')\n",
    "ax.set_xticks([i + 0.5 for i in range(len(pivot_table.columns))])\n",
    "ax.set_xticklabels(pivot_table.columns, rotation=25, ha=\"right\")\n",
    "ax.set_yticks([i + 0.5 for i in range(len(pivot_table.index))])\n",
    "ax.set_yticklabels(pivot_table.index, rotation=0)\n",
    "\n",
    "ax.text(len(pivot_table.columns) + 0.45, -1.5, 'USNWR\\nRanking',\n",
    "       horizontalalignment='center',\n",
    "       verticalalignment='center',\n",
    "       fontsize=12,\n",
    "       color='black',\n",
    "       weight='bold')\n",
    "\n",
    "ax.text(len(pivot_table.columns) + 2.25, -1.5, 'USNWR\\nCategory',\n",
    "       horizontalalignment='center',\n",
    "       verticalalignment='center',\n",
    "       fontsize=12,\n",
    "       color='black',\n",
    "       weight='bold')\n",
    "\n",
    "plt.savefig(f\"../results/university_major_{gpt_fn}_{run_type}_median_response_uni_major_table.pdf\", dpi=600, bbox_inches='tight')\n",
    "plt.savefig(f\"../results/university_major_{gpt_fn}_{run_type}_median_response_uni_major_table.eps\", dpi=600, bbox_inches='tight')\n",
    "\n",
    "plt.show()\n"
   ]
  },
  {
   "cell_type": "code",
   "execution_count": null,
   "id": "73e9f1c0-a6b4-47d0-a1d3-5e08bccd64c6",
   "metadata": {},
   "outputs": [],
   "source": [
    "pivot_table_with_rankings.to_csv(f\"../results/umg_{run_type}_{gpt_fn}_median_by_uni_major.csv\")"
   ]
  },
  {
   "cell_type": "code",
   "execution_count": null,
   "id": "af8753c6-d287-41a6-ac07-3881ed4921db",
   "metadata": {},
   "outputs": [],
   "source": []
  },
  {
   "cell_type": "code",
   "execution_count": null,
   "id": "931a5bc5",
   "metadata": {},
   "outputs": [],
   "source": [
    "grouped = df_merged.groupby('Ranking').agg({'query_response_parsed': 'mean', 'University': 'first'}).reset_index()\n",
    "fig, ax = plt.subplots(figsize=(10,6))\n",
    "ax.bar(grouped['Ranking'].astype(str), grouped['query_response_parsed'])\n",
    "ax.set_xlabel('Ranking')\n",
    "ax.set_ylabel('Average Query Response')\n",
    "ax.set_title('Average Query Response by University Ranking')\n",
    "ax.set_xticks(grouped['Ranking'].astype(str))\n",
    "ax.set_xticklabels(grouped['University'], rotation=90)\n",
    "ax.set_ylim(grouped['query_response_parsed'].min()-5000, grouped['query_response_parsed'].max() + 2000)\n",
    "plt.tight_layout()\n",
    "plt.show()"
   ]
  },
  {
   "cell_type": "code",
   "execution_count": null,
   "id": "2f263c30-8952-4d95-9669-0af50ec8acda",
   "metadata": {
    "tags": []
   },
   "outputs": [],
   "source": [
    "# Calculate the median for each university\n",
    "median_values = df_merged.groupby('University')['query_response_parsed'].median().sort_values()\n",
    "\n",
    "# Create a new DataFrame with the sorted order\n",
    "sorted_df = df_merged.set_index('University').loc[median_values.index].reset_index()\n",
    "\n",
    "# Plot the sorted boxplot\n",
    "plt.figure(figsize=(6, 12))\n",
    "sns.boxenplot(y='University', x='query_response_parsed', data=sorted_df, order=median_values.index, showfliers=False,\n",
    "             line_kws=dict(linewidth=3, color=\"red\", alpha=1))\n",
    "plt.xticks(rotation=90)\n",
    "plt.show()"
   ]
  },
  {
   "cell_type": "code",
   "execution_count": null,
   "id": "1c03c6bf-e8bd-45f8-a920-89c11d6b77a7",
   "metadata": {
    "tags": []
   },
   "outputs": [],
   "source": [
    "# Calculate the median for each university\n",
    "median_values = df_merged.groupby('Pronoun')['query_response_parsed'].median().sort_values()\n",
    "\n",
    "# Create a new DataFrame with the sorted order\n",
    "sorted_df = df_merged.set_index('Pronoun').loc[median_values.index].reset_index()\n",
    "\n",
    "# Plot the sorted boxplot\n",
    "plt.figure(figsize=(8, 2))\n",
    "sns.boxenplot(y='Pronoun', x='query_response_parsed', data=sorted_df, order=median_values.index, showfliers=False,\n",
    "              line_kws=dict(linewidth=3, color=\"red\", alpha=1))\n",
    "plt.xticks(rotation=0)\n",
    "plt.show()"
   ]
  },
  {
   "cell_type": "code",
   "execution_count": null,
   "id": "ffa51d25-f4cc-4c7b-9515-ccff31d6173c",
   "metadata": {
    "tags": []
   },
   "outputs": [],
   "source": [
    "# Calculate the median for each university\n",
    "median_values = df_merged.groupby('Major')['query_response_parsed'].median().sort_values()\n",
    "\n",
    "# Create a new DataFrame with the sorted order\n",
    "sorted_df = df_merged.set_index('Major').loc[median_values.index].reset_index()\n",
    "\n",
    "# Plot the sorted boxplot\n",
    "plt.figure(figsize=(8, 6))\n",
    "#sns.violinplot(y='Major', x='query_response_parsed', data=sorted_df, order=median_values.index, dodge=False)\n",
    "sns.boxenplot(x='query_response_parsed', y=\"Major\", data=sorted_df, line_kws=dict(linewidth=3, color=\"red\", alpha=1), showfliers=False)\n",
    "\n",
    "plt.xticks(rotation=0)\n",
    "plt.show()"
   ]
  },
  {
   "cell_type": "code",
   "execution_count": null,
   "id": "65822e90-6f25-48b7-b9f4-12c448673abc",
   "metadata": {
    "tags": []
   },
   "outputs": [],
   "source": [
    "print(\"Elapsed time:\", datetime.datetime.now() - start_run)"
   ]
  },
  {
   "cell_type": "code",
   "execution_count": null,
   "id": "7eedeca4-45eb-4348-ae38-5291bfa05972",
   "metadata": {},
   "outputs": [],
   "source": []
  },
  {
   "cell_type": "code",
   "execution_count": null,
   "id": "318cddf1-e758-46f3-80e9-d422f5ca340e",
   "metadata": {},
   "outputs": [],
   "source": []
  }
 ],
 "metadata": {
  "kernelspec": {
   "display_name": "Python 3 (ipykernel)",
   "language": "python",
   "name": "python3"
  },
  "language_info": {
   "codemirror_mode": {
    "name": "ipython",
    "version": 3
   },
   "file_extension": ".py",
   "mimetype": "text/x-python",
   "name": "python",
   "nbconvert_exporter": "python",
   "pygments_lexer": "ipython3",
   "version": "3.9.7"
  }
 },
 "nbformat": 4,
 "nbformat_minor": 5
}
